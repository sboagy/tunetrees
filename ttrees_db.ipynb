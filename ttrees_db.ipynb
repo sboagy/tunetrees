{
 "cells": [
  {
   "cell_type": "code",
   "execution_count": 2,
   "metadata": {},
   "outputs": [],
   "source": [
    "import tunetrees.app.database\n",
    "from tunetrees.app.database import SessionLocal, sqlalchemy_database_engine\n",
    "from sqlalchemy.sql import text\n",
    "from typing import Any, Dict, List\n",
    "from sqlalchemy import Row, Table, func, select\n",
    "from sqlalchemy.orm import Query, Session\n",
    "from datetime import datetime, timedelta\n",
    "from tabulate import tabulate\n",
    "from sqlalchemy import Column, Float, ForeignKey, Index, Integer, Table, Text, text\n",
    "\n",
    "\n",
    "from tunetrees.models.tunetrees import t_practice_list_joined, metadata"
   ]
  },
  {
   "cell_type": "code",
   "execution_count": 3,
   "metadata": {},
   "outputs": [],
   "source": [
    "db = SessionLocal()"
   ]
  },
  {
   "cell_type": "code",
   "execution_count": 4,
   "metadata": {},
   "outputs": [
    {
     "name": "stdout",
     "output_type": "stream",
     "text": [
      "SELECT practice_list_joined.\"ID\" AS \"practice_list_joined_ID\", practice_list_joined.\"Title\" AS \"practice_list_joined_Title\", practice_list_joined.\"Type\" AS \"practice_list_joined_Type\", practice_list_joined.\"Structure\" AS \"practice_list_joined_Structure\", practice_list_joined.\"Mode\" AS \"practice_list_joined_Mode\", practice_list_joined.\"Incipit\" AS \"practice_list_joined_Incipit\", practice_list_joined.\"Learned\" AS \"practice_list_joined_Learned\", practice_list_joined.\"Practiced\" AS \"practice_list_joined_Practiced\", practice_list_joined.\"Quality\" AS \"practice_list_joined_Quality\", practice_list_joined.\"Easiness\" AS \"practice_list_joined_Easiness\", practice_list_joined.\"Interval\" AS \"practice_list_joined_Interval\", practice_list_joined.\"Repetitions\" AS \"practice_list_joined_Repetitions\", practice_list_joined.\"ReviewDate\" AS \"practice_list_joined_ReviewDate\", practice_list_joined.\"BackupPracticed\" AS \"practice_list_joined_BackupPracticed\", practice_list_joined.\"NotePrivate\" AS \"practice_list_joined_NotePrivate\", practice_list_joined.\"NotePublic\" AS \"practice_list_joined_NotePublic\", practice_list_joined.\"Tags\" AS \"practice_list_joined_Tags\" \n",
      "FROM practice_list_joined\n"
     ]
    }
   ],
   "source": [
    "query: Query[Any] = db.query(t_practice_list_joined)\n",
    "print(query)"
   ]
  },
  {
   "cell_type": "code",
   "execution_count": 5,
   "metadata": {},
   "outputs": [],
   "source": [
    "order_by_query = query.order_by(\n",
    "            func.DATE(t_practice_list_joined.columns.get(\"Practiced\")).desc()\n",
    "        )"
   ]
  },
  {
   "cell_type": "code",
   "execution_count": 6,
   "metadata": {},
   "outputs": [
    {
     "name": "stdout",
     "output_type": "stream",
     "text": [
      "2023-10-14 23:17:35\n"
     ]
    }
   ],
   "source": [
    "def get_most_recent_review_date()->datetime:\n",
    "    most_recent_schedualed  = query.order_by(\n",
    "                func.DATE(t_practice_list_joined.columns.get(\"Practiced\")).desc()\n",
    "            ).limit(1)\n",
    "\n",
    "    review_date_column_name = \"ReviewDate\"\n",
    "    review_date = t_practice_list_joined.columns.get(review_date_column_name)\n",
    "    assert review_date is not None\n",
    "    review_date_column_index = list(t_practice_list_joined.columns.keys()).index(review_date_column_name)\n",
    "    most_recent_review_date_str = most_recent_schedualed[0][review_date_column_index]\n",
    "    most_recent_review_date = datetime.fromisoformat(most_recent_review_date_str)\n",
    "    return most_recent_review_date\n",
    "most_recent_review_date = get_most_recent_review_date()\n",
    "print(most_recent_review_date)"
   ]
  },
  {
   "cell_type": "code",
   "execution_count": 7,
   "metadata": {},
   "outputs": [
    {
     "name": "stdout",
     "output_type": "stream",
     "text": [
      "  ID  Title                   Type    Structure    Mode      Incipit                   Learned     Practiced              Quality    Easiness    Interval    Repetitions  ReviewDate           BackupPracticed      NotePrivate                                                                                                                          NotePublic                                                     Tags\n",
      "----  ----------------------  ------  -----------  --------  ------------------------  ----------  -------------------  ---------  ----------  ----------  -------------  -------------------  -------------------  -----------------------------------------------------------------------------------------------------------------------------------  -------------------------------------------------------------  -----------\n",
      " 808  Harvest Home            Hpipe   AABB         D Major   |D2FA D2FA|dfec dcBz|     2002-11-23  2023-09-27 23:17:35          5        1.7           17              4  2023-10-14 23:17:35  2021-08-17 23:37:12\n",
      "1714  Saddle the Pony         JigD    AABB         G Major   |GBA G2B|def gdB|         2001-11-24  2023-08-28 17:15:46          4        1.92          47              5  2023-10-14 17:15:46  2021-08-04 23:16:54\n",
      " 549  Drunken Landlady        Reel    AABB         E Dorian  |BE~E2 BAFA|BE~E2 BAFB|   2009-11-23  2023-09-18 21:48:44          5        1.4           26              7  2023-10-14 21:48:44  2021-08-05 22:22:40  Try breaking up the difficult phrase with the double-a.                                                                              Good practice: https://www.youtube.com/watch?v=vV-R185jD5o     wnceili\n",
      " 249  Burke's                 JigD    AABB         D Major   |dAF AGF|dAF AGF|         2011-11-23  2023-09-14 23:42:51          4        1.6           28              5  2023-10-12 23:42:51  2021-08-10 20:47:49  High Part Of The Road / Connie O'Connell's (Burke's / Lad O'Beirne's Jig (The Silver Vale)) - Seamus Walshe                          Lad O'Beirne's Jig (The Silver Vale)\n",
      "2201  Butlers of Glen Avenue  JigD    AABB         G Major   |DEG EDB|DEG ~B3|         2006-11-23  2023-09-20 20:50:10          5        1.88          22              4  2023-10-12 20:50:10  2021-08-16 23:13:37  Christy Barry's #2\n",
      "1588  Piper's Despair         Reel    AABB         E Dorian  |EFGA BAFA|(3BcdAd BdAF|  2011-11-24  2023-09-27 23:37:49          4        1.3           15              5  2023-10-12 23:37:49  2021-08-15 23:13:28  Should record this one.  The high b jumps may sound better to me than to the listener.  Recalled it ok; though glanced at the dots.  The Piper's Despair / Peg McGrath's - Mike Rafferty. Speed 78  hp; wnceili\n",
      "2245  Red-Haired Lass         Reel    AB           G Major   |DG~G2 GABG|G2BG AGEG|    2008-11-24  2023-09-27 23:38:09          4        1.3           15              5  2023-10-12 23:38:09  2021-08-12 23:07:02                                                                                                                                                                                                      wnceili\n",
      " 282  Carraroe Jig            JigD    AABB         D Major   |DED F2A|dfe d2A|         2008-11-23  2023-09-12 19:40:57          5        1.8           29              5  2023-10-11 19:40:57  2021-08-11 23:58:45\n",
      "2079  Wise Maid               Reel    AABB         D Major   |F3F FEDE|FAAB AFED|      2002-11-24  2023-08-23 23:58:40          5        2.14          49              5  2023-10-11 23:58:40  2021-08-02 22:17:35\n",
      "1720  Sally Gardens           Reel    AABB         G Major   |G2DG BdGB|dBeB dBAB|     2001-11-24  2023-09-25 22:36:00          5        1.6           16              4  2023-10-11 22:36:00  2021-08-16 23:13:37\n"
     ]
    }
   ],
   "source": [
    "most_recent_review_date = get_most_recent_review_date()\n",
    "\n",
    "scheduled_rows = (\n",
    "    query.filter(\n",
    "        func.DATE(t_practice_list_joined.columns.get(\"ReviewDate\"))\n",
    "        > (most_recent_review_date - timedelta(days=14))\n",
    "    )\n",
    "    .filter(\n",
    "        func.DATE(t_practice_list_joined.columns.get(\"ReviewDate\"))\n",
    "        <= most_recent_review_date\n",
    "    )\n",
    "    .order_by(func.DATE(t_practice_list_joined.columns.get(\"ReviewDate\")).desc())\n",
    "    .offset(0)\n",
    "    .limit(10)\n",
    "    .all()\n",
    ")\n",
    "\n",
    "print(tabulate(scheduled_rows, headers=t_practice_list_joined.columns.keys()))"
   ]
  }
 ],
 "metadata": {
  "kernelspec": {
   "display_name": "ttrees",
   "language": "python",
   "name": "ttrees"
  },
  "language_info": {
   "codemirror_mode": {
    "name": "ipython",
    "version": 3
   },
   "file_extension": ".py",
   "mimetype": "text/x-python",
   "name": "python",
   "nbconvert_exporter": "python",
   "pygments_lexer": "ipython3",
   "version": "3.12.2"
  }
 },
 "nbformat": 4,
 "nbformat_minor": 2
}
