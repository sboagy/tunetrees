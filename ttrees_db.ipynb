{
 "cells": [
  {
   "cell_type": "code",
   "execution_count": null,
   "metadata": {},
   "outputs": [
    {
     "ename": "",
     "evalue": "",
     "output_type": "error",
     "traceback": [
      "\u001b[1;31mThe kernel failed to start due to the missing module 'tunetrees'. Consider installing this module.\n",
      "\u001b[1;31mClick <a href='https://aka.ms/kernelFailuresMissingModule'>here</a> for more info."
     ]
    }
   ],
   "source": [
    "import tunetrees.app.database\n",
    "from tunetrees.app.database import SessionLocal, sqlalchemy_database_engine\n",
    "from sqlalchemy.sql import text\n",
    "from typing import Any, Dict, List\n",
    "from sqlalchemy import Row, Table, func, select\n",
    "from sqlalchemy.orm import Query, Session\n",
    "from datetime import datetime, timedelta\n",
    "from tabulate import tabulate\n",
    "from sqlalchemy import Column, Float, ForeignKey, Index, Integer, Table, Text, text\n"
   ]
  },
  {
   "cell_type": "code",
   "execution_count": null,
   "metadata": {},
   "outputs": [],
   "source": [
    "import matplotlib.pyplot as plt\n",
    "import numpy as np\n",
    "\n",
    "import matplotlib\n",
    "\n",
    "matplotlib.rcParams['font.size'] = 8.0"
   ]
  },
  {
   "cell_type": "code",
   "execution_count": 2,
   "metadata": {},
   "outputs": [],
   "source": [
    "db = SessionLocal()"
   ]
  },
  {
   "cell_type": "code",
   "execution_count": 3,
   "metadata": {},
   "outputs": [
    {
     "name": "stdout",
     "output_type": "stream",
     "text": [
      "ID: 2\n",
      "hash: 87997944\n",
      "first_name: Jeffrey\n",
      "middle_name: None\n",
      "last_name: Myers\n",
      "email: jeffrey.myers@example.com\n",
      "user_name: greenswan192\n"
     ]
    }
   ],
   "source": [
    "from typing import Optional\n",
    "from sqlalchemy import Result\n",
    "from tunetrees.models.tunetrees import User\n",
    "from sqlalchemy.inspection import inspect\n",
    "\n",
    "id = 2\n",
    "stmt = select(User).where(User.ID == id)\n",
    "\n",
    "db = SessionLocal()\n",
    "result: Result = db.execute(stmt)\n",
    "which_row: Optional[Row[User]] = result.fetchone()\n",
    "if which_row and len(which_row) > 0:\n",
    "    user: User = which_row[0]\n",
    "    table = inspect(User)\n",
    "    for column in table.c:\n",
    "        print(f\"{column.name}: {getattr(user, column.name)}\")"
   ]
  },
  {
   "cell_type": "code",
   "execution_count": 5,
   "metadata": {},
   "outputs": [
    {
     "name": "stdout",
     "output_type": "stream",
     "text": [
      "SELECT practice_list_joined.\"ID\" AS \"practice_list_joined_ID\", practice_list_joined.\"Title\" AS \"practice_list_joined_Title\", practice_list_joined.\"Type\" AS \"practice_list_joined_Type\", practice_list_joined.\"Structure\" AS \"practice_list_joined_Structure\", practice_list_joined.\"Mode\" AS \"practice_list_joined_Mode\", practice_list_joined.\"Incipit\" AS \"practice_list_joined_Incipit\", practice_list_joined.\"Learned\" AS \"practice_list_joined_Learned\", practice_list_joined.\"Practiced\" AS \"practice_list_joined_Practiced\", practice_list_joined.\"Quality\" AS \"practice_list_joined_Quality\", practice_list_joined.\"Easiness\" AS \"practice_list_joined_Easiness\", practice_list_joined.\"Interval\" AS \"practice_list_joined_Interval\", practice_list_joined.\"Repetitions\" AS \"practice_list_joined_Repetitions\", practice_list_joined.\"ReviewDate\" AS \"practice_list_joined_ReviewDate\", practice_list_joined.\"BackupPracticed\" AS \"practice_list_joined_BackupPracticed\", practice_list_joined.\"NotePrivate\" AS \"practice_list_joined_NotePrivate\", practice_list_joined.\"NotePublic\" AS \"practice_list_joined_NotePublic\", practice_list_joined.\"Tags\" AS \"practice_list_joined_Tags\" \n",
      "FROM practice_list_joined\n"
     ]
    }
   ],
   "source": [
    "query: Query[Any] = db.query(t_practice_list_joined)\n",
    "print(query)"
   ]
  },
  {
   "cell_type": "code",
   "execution_count": 6,
   "metadata": {},
   "outputs": [],
   "source": [
    "order_by_query = query.order_by(\n",
    "            func.DATE(t_practice_list_joined.columns.get(\"Practiced\")).desc()\n",
    "        )"
   ]
  },
  {
   "cell_type": "code",
   "execution_count": 7,
   "metadata": {},
   "outputs": [
    {
     "name": "stdout",
     "output_type": "stream",
     "text": [
      "2025-01-27 12:27:08\n"
     ]
    }
   ],
   "source": [
    "def get_most_recent_review_date()->datetime:\n",
    "    most_recent_schedualed  = query.order_by(\n",
    "                func.DATE(t_practice_list_joined.columns.get(\"Practiced\")).desc()\n",
    "            ).limit(1)\n",
    "\n",
    "    review_date_column_name = \"ReviewDate\"\n",
    "    review_date = t_practice_list_joined.columns.get(review_date_column_name)\n",
    "    assert review_date is not None\n",
    "    review_date_column_index = list(t_practice_list_joined.columns.keys()).index(review_date_column_name)\n",
    "    most_recent_review_date_str = most_recent_schedualed[0][review_date_column_index]\n",
    "    most_recent_review_date = datetime.fromisoformat(most_recent_review_date_str)\n",
    "    return most_recent_review_date\n",
    "most_recent_review_date = get_most_recent_review_date()\n",
    "print(most_recent_review_date)"
   ]
  },
  {
   "cell_type": "code",
   "execution_count": 13,
   "metadata": {},
   "outputs": [
    {
     "name": "stdout",
     "output_type": "stream",
     "text": [
      "SELECT practice_list_joined.\"ID\" AS \"practice_list_joined_ID\", practice_list_joined.\"Title\" AS \"practice_list_joined_Title\", practice_list_joined.\"Type\" AS \"practice_list_joined_Type\", practice_list_joined.\"Structure\" AS \"practice_list_joined_Structure\", practice_list_joined.\"Mode\" AS \"practice_list_joined_Mode\", practice_list_joined.\"Incipit\" AS \"practice_list_joined_Incipit\", practice_list_joined.\"Learned\" AS \"practice_list_joined_Learned\", practice_list_joined.\"Practiced\" AS \"practice_list_joined_Practiced\", practice_list_joined.\"Quality\" AS \"practice_list_joined_Quality\", practice_list_joined.\"Easiness\" AS \"practice_list_joined_Easiness\", practice_list_joined.\"Interval\" AS \"practice_list_joined_Interval\", practice_list_joined.\"Repetitions\" AS \"practice_list_joined_Repetitions\", practice_list_joined.\"ReviewDate\" AS \"practice_list_joined_ReviewDate\", practice_list_joined.\"BackupPracticed\" AS \"practice_list_joined_BackupPracticed\", practice_list_joined.\"NotePrivate\" AS \"practice_list_joined_NotePrivate\", practice_list_joined.\"NotePublic\" AS \"practice_list_joined_NotePublic\", practice_list_joined.\"Tags\" AS \"practice_list_joined_Tags\" \n",
      "FROM practice_list_joined ORDER BY DATE(practice_list_joined.\"Practiced\") DESC\n",
      " LIMIT ? OFFSET ?\n",
      "practice_list_joined.Practiced\n",
      "2024-07-07 12:27:08\n",
      "2024-07-07 12:27:08\n"
     ]
    }
   ],
   "source": [
    "def get_most_recent_practice_date()->datetime:\n",
    "    most_recent_schedualed  = query.order_by(\n",
    "                func.DATE(t_practice_list_joined.columns.get(\"Practiced\")).desc()\n",
    "            ).limit(1)\n",
    "\n",
    "    practice_date_column_name = \"Practiced\"\n",
    "    practice_date = t_practice_list_joined.columns.get(practice_date_column_name)\n",
    "    assert practice_date is not None\n",
    "    practice_date_column_index = list(t_practice_list_joined.columns.keys()).index(practice_date_column_name)\n",
    "    most_recent_practice_date_str = most_recent_schedualed[0][practice_date_column_index]\n",
    "    most_recent_practice_date = datetime.fromisoformat(most_recent_practice_date_str)\n",
    "    return most_recent_practice_date\n",
    "most_recent_practice_date = get_most_recent_practice_date()\n",
    "print(most_recent_practice_date)"
   ]
  },
  {
   "cell_type": "code",
   "execution_count": 18,
   "metadata": {},
   "outputs": [
    {
     "name": "stdout",
     "output_type": "stream",
     "text": [
      "  ID  Title                  Type    Structure    Mode          Incipit                           Learned     Practiced              Quality    Easiness    Interval    Repetitions  ReviewDate           BackupPracticed      NotePrivate                                                                                                          NotePublic                        Tags\n",
      "----  ---------------------  ------  -----------  ------------  --------------------------------  ----------  -------------------  ---------  ----------  ----------  -------------  -------------------  -------------------  -------------------------------------------------------------------------------------------------------------------  --------------------------------  -------------------\n",
      "2794  Back of the Haggard    Hpipe   AABB         D Major       |dcdf ecA2|dBGB AFD2|             2020-09-24  2024-06-26 20:52:45          3        1.3           12              4  2024-07-08 20:52:45  2022-07-06 10:56:02  Follows Honeysuckle on Willie Kelly & Mike Rafferty With Donal Clancy - The Honeysuckle / Pound Hill\n",
      "1089  Langstern Pony         JigD    AABBCCDD     A Mixolydian  |fed cAA|eAA cAA|                 2017-01-02  2024-07-02 23:14:45          4        1.3            6              2  2024-07-08 23:14:45  2022-12-25 18:51:09  4 Parts: fed | Cee | ACe | AEAA  2017-05-28: Worked on breathing in a A part.  Try to make more fluid.                                                 group3; hp; wnceili\n",
      "  70  An Sean Duine          JigD                 D Major       |DEF AFE|DEF F2E|                 2018-08-12  2024-07-07 12:33:52          5        1.4            1              1  2024-07-08 12:33:52  2022-12-25 18:51:56  Listen to Robin Recording                                                                                            The Burnt Old Man\n",
      "2057  Whelan's Sow           JigD    AABB         D Major       |FAF EGE|DFA dAG|                 2020-10-12  2024-07-07 12:33:58          3        1.3            1              1  2024-07-08 12:33:58  2022-08-09 20:55:15                                                                                                                       Eddie Malony's in Foen Session 3\n",
      " 702  Garrett Barry's        JigD    AABB         D Mixolydian  |DEF ~G3|AGA Bce|                 2006-11-23  2024-07-07 12:35:42          4        1.3            1              1  2024-07-08 12:35:42  2021-08-15 23:20:14\n",
      " 924  Jenny Picking Cockles  Reel    AABB         D Mixolydian  |Ad~d2 AGE=F|GEcE dEcE|           2016-11-09  2024-07-07 12:48:03          0        1.3            1              0  2024-07-08 12:48:03  2022-08-18 21:16:49  Work on ECEdECE phrase.  Alternate with ECEd~CE.  Practice relaxed!!  Last: Quick run-through; Note start A dd c A.                                    hp; wnceili\n",
      " 545  Drowsy Maggie          Reel    AB           E Dorian      |E2BE dEBE|EEBE AFDF|             2004-11-23  2024-05-27 20:23:29          5        1.98          42              5  2024-07-08 20:23:29  2021-07-31 20:20:08\n",
      "1684  Road to Lisdoonvarna   Slide   AABB         E Dorian      |E2B B2A B2c d3|F2A ABA D2E FED|  2006-11-24  2024-06-29 21:19:10          5        1.5            9              3  2024-07-08 21:19:10  2021-08-07 16:34:01\n"
     ]
    }
   ],
   "source": [
    "# most_recent_practice_date = get_most_recent_practice_date()\n",
    "skip: int = 0\n",
    "\n",
    "review_sitdown_date = datetime.fromisoformat(\"2024-07-08 12:27:08\") # or datetime.today()\n",
    "\n",
    "acceptable_delinquency_window = 7\n",
    "\n",
    "scheduled_rows = (\n",
    "        query.filter(\n",
    "            func.DATE(t_practice_list_joined.columns.get(\"ReviewDate\"))\n",
    "            > review_sitdown_date - timedelta(acceptable_delinquency_window)\n",
    "        )\n",
    "        .filter(\n",
    "            func.DATE(t_practice_list_joined.columns.get(\"ReviewDate\"))\n",
    "            <= review_sitdown_date\n",
    "        )\n",
    "        .order_by(func.DATE(t_practice_list_joined.columns.get(\"ReviewDate\")).desc())\n",
    "        .offset(skip)\n",
    "        .limit(100)\n",
    "        .all()\n",
    ")\n",
    "\n",
    "print(tabulate(scheduled_rows, headers=t_practice_list_joined.columns.keys()))"
   ]
  },
  {
   "cell_type": "code",
   "execution_count": 10,
   "metadata": {},
   "outputs": [
    {
     "data": {
      "image/png": "[encoded data removed]",
      "text/plain": [
       "<Figure size 640x480 with 4 Axes>"
      ]
     },
     "metadata": {},
     "output_type": "display_data"
    }
   ],
   "source": [
    "# Fixing random state for reproducibility\n",
    "np.random.seed(19680801)\n",
    "\n",
    "\n",
    "# create random data\n",
    "data1 = np.random.random([6, 50])\n",
    "\n",
    "# set different colors for each set of positions\n",
    "colors1 = [f'C{i}' for i in range(6)]\n",
    "\n",
    "# set different line properties for each set of positions\n",
    "# note that some overlap\n",
    "lineoffsets1 = [-15, -3, 1, 1.5, 6, 10]\n",
    "linelengths1 = [5, 2, 1, 1, 3, 1.5]\n",
    "\n",
    "fig, axs = plt.subplots(2, 2)\n",
    "assert isinstance(axs, np.ndarray)\n",
    "\n",
    "# create a horizontal plot\n",
    "axs[0, 0].eventplot(data1, colors=colors1, lineoffsets=lineoffsets1,\n",
    "                    linelengths=linelengths1)\n",
    "\n",
    "# create a vertical plot\n",
    "axs[1, 0].eventplot(data1, colors=colors1, lineoffsets=lineoffsets1,\n",
    "                    linelengths=linelengths1, orientation='vertical')\n",
    "\n",
    "# create another set of random data.\n",
    "# the gamma distribution is only used for aesthetic purposes\n",
    "data2 = np.random.gamma(4, size=[60, 50])\n",
    "\n",
    "# use individual values for the parameters this time\n",
    "# these values will be used for all data sets (except lineoffsets2, which\n",
    "# sets the increment between each data set in this usage)\n",
    "colors2 = 'black'\n",
    "lineoffsets2 = 1\n",
    "linelengths2 = 1\n",
    "\n",
    "# create a horizontal plot\n",
    "axs[0, 1].eventplot(data2, colors=colors2, lineoffsets=lineoffsets2,\n",
    "                    linelengths=linelengths2)\n",
    "\n",
    "\n",
    "# create a vertical plot\n",
    "axs[1, 1].eventplot(data2, colors=colors2, lineoffsets=lineoffsets2,\n",
    "                    linelengths=linelengths2, orientation='vertical')\n",
    "\n",
    "plt.show()"
   ]
  }
 ],
 "metadata": {
  "kernelspec": {
   "display_name": "tunetrees",
   "language": "python",
   "name": "tunetrees"
  },
  "language_info": {
   "codemirror_mode": {
    "name": "ipython",
    "version": 3
   },
   "file_extension": ".py",
   "mimetype": "text/x-python",
   "name": "python",
   "nbconvert_exporter": "python",
   "pygments_lexer": "ipython3",
   "version": "3.12.2"
  }
 },
 "nbformat": 4,
 "nbformat_minor": 2
}
